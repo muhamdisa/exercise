{
 "cells": [
  {
   "cell_type": "markdown",
   "id": "0e765b9e",
   "metadata": {},
   "source": [
    "## Pandas - Assignment"
   ]
  },
  {
   "cell_type": "markdown",
   "id": "189fe692",
   "metadata": {},
   "source": [
    "## Write code, where porosity and permeability thresholds will be given by user and you will return final dataframe"
   ]
  },
  {
   "cell_type": "code",
   "execution_count": 1,
   "id": "1bf1776a",
   "metadata": {},
   "outputs": [],
   "source": [
    "import pandas as pd"
   ]
  },
  {
   "cell_type": "code",
   "execution_count": 2,
   "id": "cc9d2246",
   "metadata": {},
   "outputs": [
    {
     "name": "stdout",
     "output_type": "stream",
     "text": [
      "Enter number of values 3\n",
      "Enter porosity 2.5\n",
      "Enter permeability 3.7\n",
      "Enter porosity 4.5\n",
      "Enter permeability 8.2\n",
      "Enter porosity 6.5\n",
      "Enter permeability 3.2\n"
     ]
    }
   ],
   "source": [
    "# defined 2 empty lists 'd_por' for porosity and 'd_per' for permeability\n",
    "d_por=[]\n",
    "d_per=[] \n",
    "n = int(input(\"Enter number of values \"))# The number of values to be entered\n",
    "for i in range(n):\n",
    "    por = float(input(\"Enter porosity \"))\n",
    "    per = float(input(\"Enter permeability \")) \n",
    "    d_por.append(por)\n",
    "    d_per.append(per)\n",
    "    df= {\"Porosity\" :d_por,\"permeability\" : d_per}\n",
    "    data=pd.DataFrame(df)"
   ]
  },
  {
   "cell_type": "markdown",
   "id": "beb1d3fd",
   "metadata": {},
   "source": [
    "## Printing the final dataframe"
   ]
  },
  {
   "cell_type": "code",
   "execution_count": 3,
   "id": "8019ccdb",
   "metadata": {
    "scrolled": true
   },
   "outputs": [
    {
     "data": {
      "text/html": [
       "<div>\n",
       "<style scoped>\n",
       "    .dataframe tbody tr th:only-of-type {\n",
       "        vertical-align: middle;\n",
       "    }\n",
       "\n",
       "    .dataframe tbody tr th {\n",
       "        vertical-align: top;\n",
       "    }\n",
       "\n",
       "    .dataframe thead th {\n",
       "        text-align: right;\n",
       "    }\n",
       "</style>\n",
       "<table border=\"1\" class=\"dataframe\">\n",
       "  <thead>\n",
       "    <tr style=\"text-align: right;\">\n",
       "      <th></th>\n",
       "      <th>Porosity</th>\n",
       "      <th>permeability</th>\n",
       "    </tr>\n",
       "  </thead>\n",
       "  <tbody>\n",
       "    <tr>\n",
       "      <th>0</th>\n",
       "      <td>2.5</td>\n",
       "      <td>3.7</td>\n",
       "    </tr>\n",
       "    <tr>\n",
       "      <th>1</th>\n",
       "      <td>4.5</td>\n",
       "      <td>8.2</td>\n",
       "    </tr>\n",
       "    <tr>\n",
       "      <th>2</th>\n",
       "      <td>6.5</td>\n",
       "      <td>3.2</td>\n",
       "    </tr>\n",
       "  </tbody>\n",
       "</table>\n",
       "</div>"
      ],
      "text/plain": [
       "   Porosity  permeability\n",
       "0       2.5           3.7\n",
       "1       4.5           8.2\n",
       "2       6.5           3.2"
      ]
     },
     "execution_count": 3,
     "metadata": {},
     "output_type": "execute_result"
    }
   ],
   "source": [
    "data"
   ]
  },
  {
   "cell_type": "markdown",
   "id": "490e4eef",
   "metadata": {},
   "source": [
    "## Saving data into csv file"
   ]
  },
  {
   "cell_type": "code",
   "execution_count": 4,
   "id": "cfc5a94b",
   "metadata": {},
   "outputs": [
    {
     "name": "stdout",
     "output_type": "stream",
     "text": [
      "The data has been saved successfully\n"
     ]
    }
   ],
   "source": [
    "data.to_csv(\"data.csv\", index=False)\n",
    "print(\"The data has been saved successfully\")"
   ]
  },
  {
   "cell_type": "markdown",
   "id": "bc2341db",
   "metadata": {},
   "source": [
    "## Reading the data from csv file"
   ]
  },
  {
   "cell_type": "code",
   "execution_count": 5,
   "id": "0ea6b473",
   "metadata": {},
   "outputs": [
    {
     "data": {
      "text/html": [
       "<div>\n",
       "<style scoped>\n",
       "    .dataframe tbody tr th:only-of-type {\n",
       "        vertical-align: middle;\n",
       "    }\n",
       "\n",
       "    .dataframe tbody tr th {\n",
       "        vertical-align: top;\n",
       "    }\n",
       "\n",
       "    .dataframe thead th {\n",
       "        text-align: right;\n",
       "    }\n",
       "</style>\n",
       "<table border=\"1\" class=\"dataframe\">\n",
       "  <thead>\n",
       "    <tr style=\"text-align: right;\">\n",
       "      <th></th>\n",
       "      <th>Porosity</th>\n",
       "      <th>permeability</th>\n",
       "    </tr>\n",
       "  </thead>\n",
       "  <tbody>\n",
       "    <tr>\n",
       "      <th>0</th>\n",
       "      <td>2.5</td>\n",
       "      <td>3.7</td>\n",
       "    </tr>\n",
       "    <tr>\n",
       "      <th>1</th>\n",
       "      <td>4.5</td>\n",
       "      <td>8.2</td>\n",
       "    </tr>\n",
       "    <tr>\n",
       "      <th>2</th>\n",
       "      <td>6.5</td>\n",
       "      <td>3.2</td>\n",
       "    </tr>\n",
       "  </tbody>\n",
       "</table>\n",
       "</div>"
      ],
      "text/plain": [
       "   Porosity  permeability\n",
       "0       2.5           3.7\n",
       "1       4.5           8.2\n",
       "2       6.5           3.2"
      ]
     },
     "execution_count": 5,
     "metadata": {},
     "output_type": "execute_result"
    }
   ],
   "source": [
    " pd.read_csv(\"data.csv\")"
   ]
  },
  {
   "cell_type": "code",
   "execution_count": null,
   "id": "54633013",
   "metadata": {},
   "outputs": [],
   "source": []
  }
 ],
 "metadata": {
  "kernelspec": {
   "display_name": "Python 3 (ipykernel)",
   "language": "python",
   "name": "python3"
  },
  "language_info": {
   "codemirror_mode": {
    "name": "ipython",
    "version": 3
   },
   "file_extension": ".py",
   "mimetype": "text/x-python",
   "name": "python",
   "nbconvert_exporter": "python",
   "pygments_lexer": "ipython3",
   "version": "3.9.13"
  }
 },
 "nbformat": 4,
 "nbformat_minor": 5
}
