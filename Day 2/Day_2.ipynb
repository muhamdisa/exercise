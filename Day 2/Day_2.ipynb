{
 "cells": [
  {
   "cell_type": "markdown",
   "id": "5fe05d42",
   "metadata": {},
   "source": [
    "## Day_1"
   ]
  },
  {
   "cell_type": "code",
   "execution_count": 1,
   "id": "477b324f",
   "metadata": {},
   "outputs": [
    {
     "name": "stdout",
     "output_type": "stream",
     "text": [
      "Hello Isa\n"
     ]
    }
   ],
   "source": [
    "print('Hello Isa')"
   ]
  },
  {
   "cell_type": "code",
   "execution_count": 2,
   "id": "3fd2d7ce",
   "metadata": {},
   "outputs": [
    {
     "name": "stdout",
     "output_type": "stream",
     "text": [
      "Hello Isa\n"
     ]
    }
   ],
   "source": [
    "print(\"Hello Isa\")"
   ]
  },
  {
   "cell_type": "markdown",
   "id": "1cd8f93c",
   "metadata": {},
   "source": [
    "## Integers"
   ]
  },
  {
   "cell_type": "code",
   "execution_count": 3,
   "id": "290c4d17",
   "metadata": {},
   "outputs": [
    {
     "data": {
      "text/plain": [
       "1"
      ]
     },
     "execution_count": 3,
     "metadata": {},
     "output_type": "execute_result"
    }
   ],
   "source": [
    "1"
   ]
  },
  {
   "cell_type": "code",
   "execution_count": 4,
   "id": "f77d8677",
   "metadata": {},
   "outputs": [
    {
     "data": {
      "text/plain": [
       "223"
      ]
     },
     "execution_count": 4,
     "metadata": {},
     "output_type": "execute_result"
    }
   ],
   "source": [
    "223"
   ]
  },
  {
   "cell_type": "code",
   "execution_count": 5,
   "id": "d3695319",
   "metadata": {},
   "outputs": [
    {
     "data": {
      "text/plain": [
       "4567778"
      ]
     },
     "execution_count": 5,
     "metadata": {},
     "output_type": "execute_result"
    }
   ],
   "source": [
    "4567778"
   ]
  },
  {
   "cell_type": "code",
   "execution_count": 6,
   "id": "94f78208",
   "metadata": {},
   "outputs": [
    {
     "name": "stdout",
     "output_type": "stream",
     "text": [
      "78\n"
     ]
    }
   ],
   "source": [
    "print(78)"
   ]
  },
  {
   "cell_type": "markdown",
   "id": "a6c00f7e",
   "metadata": {},
   "source": [
    "## Floats: decimal values"
   ]
  },
  {
   "cell_type": "code",
   "execution_count": 7,
   "id": "6addb44a",
   "metadata": {},
   "outputs": [
    {
     "data": {
      "text/plain": [
       "7.0"
      ]
     },
     "execution_count": 7,
     "metadata": {},
     "output_type": "execute_result"
    }
   ],
   "source": [
    "7.0"
   ]
  },
  {
   "cell_type": "code",
   "execution_count": 8,
   "id": "2c4a66b9",
   "metadata": {},
   "outputs": [
    {
     "name": "stdout",
     "output_type": "stream",
     "text": [
      "7.5\n"
     ]
    }
   ],
   "source": [
    "print(7.5)"
   ]
  },
  {
   "cell_type": "code",
   "execution_count": 9,
   "id": "ed54ca55",
   "metadata": {},
   "outputs": [
    {
     "data": {
      "text/plain": [
       "7"
      ]
     },
     "execution_count": 9,
     "metadata": {},
     "output_type": "execute_result"
    }
   ],
   "source": [
    "7"
   ]
  },
  {
   "cell_type": "code",
   "execution_count": 10,
   "id": "6c25f900",
   "metadata": {},
   "outputs": [
    {
     "data": {
      "text/plain": [
       "int"
      ]
     },
     "execution_count": 10,
     "metadata": {},
     "output_type": "execute_result"
    }
   ],
   "source": [
    "type(7)"
   ]
  },
  {
   "cell_type": "code",
   "execution_count": 11,
   "id": "4e38e41a",
   "metadata": {},
   "outputs": [
    {
     "data": {
      "text/plain": [
       "float"
      ]
     },
     "execution_count": 11,
     "metadata": {},
     "output_type": "execute_result"
    }
   ],
   "source": [
    "type(7.0)"
   ]
  },
  {
   "cell_type": "markdown",
   "id": "c947792b",
   "metadata": {},
   "source": [
    "## String: (\" \" , ' ')"
   ]
  },
  {
   "cell_type": "code",
   "execution_count": 12,
   "id": "cb968e4b",
   "metadata": {},
   "outputs": [
    {
     "data": {
      "text/plain": [
       "'hi'"
      ]
     },
     "execution_count": 12,
     "metadata": {},
     "output_type": "execute_result"
    }
   ],
   "source": [
    "\"hi\""
   ]
  },
  {
   "cell_type": "code",
   "execution_count": 13,
   "id": "47dfb2ed",
   "metadata": {},
   "outputs": [
    {
     "data": {
      "text/plain": [
       "'hi'"
      ]
     },
     "execution_count": 13,
     "metadata": {},
     "output_type": "execute_result"
    }
   ],
   "source": [
    "'hi'"
   ]
  },
  {
   "cell_type": "code",
   "execution_count": 14,
   "id": "7980d217",
   "metadata": {},
   "outputs": [
    {
     "data": {
      "text/plain": [
       "str"
      ]
     },
     "execution_count": 14,
     "metadata": {},
     "output_type": "execute_result"
    }
   ],
   "source": [
    "type('hi')"
   ]
  },
  {
   "cell_type": "code",
   "execution_count": 15,
   "id": "0de62caa",
   "metadata": {},
   "outputs": [
    {
     "data": {
      "text/plain": [
       "str"
      ]
     },
     "execution_count": 15,
     "metadata": {},
     "output_type": "execute_result"
    }
   ],
   "source": [
    "type('r')"
   ]
  },
  {
   "cell_type": "code",
   "execution_count": 16,
   "id": "dd3fb840",
   "metadata": {},
   "outputs": [
    {
     "data": {
      "text/plain": [
       "str"
      ]
     },
     "execution_count": 16,
     "metadata": {},
     "output_type": "execute_result"
    }
   ],
   "source": [
    "type(\"7\")"
   ]
  },
  {
   "cell_type": "code",
   "execution_count": 17,
   "id": "e09559cf",
   "metadata": {},
   "outputs": [
    {
     "data": {
      "text/plain": [
       "'7'"
      ]
     },
     "execution_count": 17,
     "metadata": {},
     "output_type": "execute_result"
    }
   ],
   "source": [
    "'7'"
   ]
  },
  {
   "cell_type": "markdown",
   "id": "0742a3ac",
   "metadata": {},
   "source": [
    "## Booleans"
   ]
  },
  {
   "cell_type": "code",
   "execution_count": 18,
   "id": "670c7230",
   "metadata": {},
   "outputs": [
    {
     "data": {
      "text/plain": [
       "True"
      ]
     },
     "execution_count": 18,
     "metadata": {},
     "output_type": "execute_result"
    }
   ],
   "source": [
    "8>2"
   ]
  },
  {
   "cell_type": "code",
   "execution_count": 19,
   "id": "2826f66a",
   "metadata": {},
   "outputs": [
    {
     "data": {
      "text/plain": [
       "bool"
      ]
     },
     "execution_count": 19,
     "metadata": {},
     "output_type": "execute_result"
    }
   ],
   "source": [
    "type(True)"
   ]
  },
  {
   "cell_type": "markdown",
   "id": "7ceb14b0",
   "metadata": {},
   "source": [
    "## Mathematical Operations"
   ]
  },
  {
   "cell_type": "code",
   "execution_count": 20,
   "id": "ee29d3ac",
   "metadata": {},
   "outputs": [
    {
     "data": {
      "text/plain": [
       "6"
      ]
     },
     "execution_count": 20,
     "metadata": {},
     "output_type": "execute_result"
    }
   ],
   "source": [
    "4+2"
   ]
  },
  {
   "cell_type": "code",
   "execution_count": 21,
   "id": "a30a9d8b",
   "metadata": {},
   "outputs": [
    {
     "data": {
      "text/plain": [
       "2"
      ]
     },
     "execution_count": 21,
     "metadata": {},
     "output_type": "execute_result"
    }
   ],
   "source": [
    "4-2"
   ]
  },
  {
   "cell_type": "code",
   "execution_count": 22,
   "id": "767ad129",
   "metadata": {},
   "outputs": [
    {
     "data": {
      "text/plain": [
       "8"
      ]
     },
     "execution_count": 22,
     "metadata": {},
     "output_type": "execute_result"
    }
   ],
   "source": [
    "4*2"
   ]
  },
  {
   "cell_type": "code",
   "execution_count": 23,
   "id": "fc4ce438",
   "metadata": {},
   "outputs": [
    {
     "data": {
      "text/plain": [
       "2.0"
      ]
     },
     "execution_count": 23,
     "metadata": {},
     "output_type": "execute_result"
    }
   ],
   "source": [
    "4/2"
   ]
  },
  {
   "cell_type": "code",
   "execution_count": 24,
   "id": "3219a9a2",
   "metadata": {},
   "outputs": [
    {
     "data": {
      "text/plain": [
       "1.3333333333333333"
      ]
     },
     "execution_count": 24,
     "metadata": {},
     "output_type": "execute_result"
    }
   ],
   "source": [
    "4/3"
   ]
  },
  {
   "cell_type": "code",
   "execution_count": 25,
   "id": "552381fa",
   "metadata": {},
   "outputs": [
    {
     "data": {
      "text/plain": [
       "25"
      ]
     },
     "execution_count": 25,
     "metadata": {},
     "output_type": "execute_result"
    }
   ],
   "source": [
    "5**2"
   ]
  },
  {
   "cell_type": "code",
   "execution_count": 26,
   "id": "884a80ff",
   "metadata": {},
   "outputs": [
    {
     "name": "stdout",
     "output_type": "stream",
     "text": [
      "8\n",
      "16\n"
     ]
    }
   ],
   "source": [
    "# * for multiplication ** for exponential power\n",
    "print(4*2)\n",
    "print(4**2)"
   ]
  },
  {
   "cell_type": "code",
   "execution_count": 27,
   "id": "b953d1f8",
   "metadata": {},
   "outputs": [
    {
     "data": {
      "text/plain": [
       "6.6"
      ]
     },
     "execution_count": 27,
     "metadata": {},
     "output_type": "execute_result"
    }
   ],
   "source": [
    "33/5"
   ]
  },
  {
   "cell_type": "code",
   "execution_count": 28,
   "id": "c29cb1e1",
   "metadata": {},
   "outputs": [
    {
     "data": {
      "text/plain": [
       "6"
      ]
     },
     "execution_count": 28,
     "metadata": {},
     "output_type": "execute_result"
    }
   ],
   "source": [
    "33//5"
   ]
  },
  {
   "cell_type": "code",
   "execution_count": 29,
   "id": "327e8e31",
   "metadata": {},
   "outputs": [
    {
     "data": {
      "text/plain": [
       "3"
      ]
     },
     "execution_count": 29,
     "metadata": {},
     "output_type": "execute_result"
    }
   ],
   "source": [
    "33%6"
   ]
  },
  {
   "cell_type": "code",
   "execution_count": 30,
   "id": "6b308d05",
   "metadata": {},
   "outputs": [],
   "source": [
    "# string"
   ]
  },
  {
   "cell_type": "code",
   "execution_count": 31,
   "id": "0aa78da8",
   "metadata": {},
   "outputs": [
    {
     "data": {
      "text/plain": [
       "'5533'"
      ]
     },
     "execution_count": 31,
     "metadata": {},
     "output_type": "execute_result"
    }
   ],
   "source": [
    "'55'+'33'"
   ]
  },
  {
   "cell_type": "code",
   "execution_count": 32,
   "id": "2a5bd579",
   "metadata": {},
   "outputs": [
    {
     "data": {
      "text/plain": [
       "'HelloIsa'"
      ]
     },
     "execution_count": 32,
     "metadata": {},
     "output_type": "execute_result"
    }
   ],
   "source": [
    "'Hello'+ 'Isa'"
   ]
  },
  {
   "cell_type": "code",
   "execution_count": 33,
   "id": "0762d93a",
   "metadata": {},
   "outputs": [
    {
     "data": {
      "text/plain": [
       "'Hello Isa'"
      ]
     },
     "execution_count": 33,
     "metadata": {},
     "output_type": "execute_result"
    }
   ],
   "source": [
    "'Hello'+' ' +'Isa'"
   ]
  },
  {
   "cell_type": "code",
   "execution_count": 34,
   "id": "8aefe5cf",
   "metadata": {},
   "outputs": [
    {
     "data": {
      "text/plain": [
       "'Hello Isa'"
      ]
     },
     "execution_count": 34,
     "metadata": {},
     "output_type": "execute_result"
    }
   ],
   "source": [
    "'Hello '+'Isa'"
   ]
  },
  {
   "cell_type": "code",
   "execution_count": 35,
   "id": "fba8784a",
   "metadata": {},
   "outputs": [
    {
     "data": {
      "text/plain": [
       "'101010'"
      ]
     },
     "execution_count": 35,
     "metadata": {},
     "output_type": "execute_result"
    }
   ],
   "source": [
    "\"10\"*3"
   ]
  },
  {
   "cell_type": "code",
   "execution_count": 36,
   "id": "370d6d93",
   "metadata": {},
   "outputs": [
    {
     "data": {
      "text/plain": [
       "'isaisaisa'"
      ]
     },
     "execution_count": 36,
     "metadata": {},
     "output_type": "execute_result"
    }
   ],
   "source": [
    "\"isa\"*3"
   ]
  },
  {
   "cell_type": "code",
   "execution_count": 37,
   "id": "d9f5bdc2",
   "metadata": {},
   "outputs": [
    {
     "data": {
      "text/plain": [
       "'isa isa isa '"
      ]
     },
     "execution_count": 37,
     "metadata": {},
     "output_type": "execute_result"
    }
   ],
   "source": [
    "\"isa \"*3"
   ]
  },
  {
   "cell_type": "code",
   "execution_count": 38,
   "id": "001dcc1e",
   "metadata": {},
   "outputs": [],
   "source": [
    "# Boolean"
   ]
  },
  {
   "cell_type": "code",
   "execution_count": 39,
   "id": "44e29196",
   "metadata": {},
   "outputs": [
    {
     "data": {
      "text/plain": [
       "True"
      ]
     },
     "execution_count": 39,
     "metadata": {},
     "output_type": "execute_result"
    }
   ],
   "source": [
    "4==4"
   ]
  },
  {
   "cell_type": "code",
   "execution_count": 40,
   "id": "af255c6a",
   "metadata": {},
   "outputs": [
    {
     "data": {
      "text/plain": [
       "False"
      ]
     },
     "execution_count": 40,
     "metadata": {},
     "output_type": "execute_result"
    }
   ],
   "source": [
    "5==6"
   ]
  },
  {
   "cell_type": "code",
   "execution_count": 41,
   "id": "27a8bfe7",
   "metadata": {},
   "outputs": [
    {
     "data": {
      "text/plain": [
       "False"
      ]
     },
     "execution_count": 41,
     "metadata": {},
     "output_type": "execute_result"
    }
   ],
   "source": [
    "6>9"
   ]
  },
  {
   "cell_type": "code",
   "execution_count": 42,
   "id": "7d49dec4",
   "metadata": {},
   "outputs": [
    {
     "data": {
      "text/plain": [
       "True"
      ]
     },
     "execution_count": 42,
     "metadata": {},
     "output_type": "execute_result"
    }
   ],
   "source": [
    "0>-1"
   ]
  },
  {
   "cell_type": "code",
   "execution_count": 43,
   "id": "f4fa98f0",
   "metadata": {},
   "outputs": [
    {
     "data": {
      "text/plain": [
       "False"
      ]
     },
     "execution_count": 43,
     "metadata": {},
     "output_type": "execute_result"
    }
   ],
   "source": [
    "0>2 and 2>1"
   ]
  },
  {
   "cell_type": "code",
   "execution_count": 44,
   "id": "7b62a21b",
   "metadata": {},
   "outputs": [
    {
     "data": {
      "text/plain": [
       "True"
      ]
     },
     "execution_count": 44,
     "metadata": {},
     "output_type": "execute_result"
    }
   ],
   "source": [
    "10>6 and 2<10"
   ]
  },
  {
   "cell_type": "code",
   "execution_count": 45,
   "id": "ad541ce1",
   "metadata": {},
   "outputs": [
    {
     "data": {
      "text/plain": [
       "True"
      ]
     },
     "execution_count": 45,
     "metadata": {},
     "output_type": "execute_result"
    }
   ],
   "source": [
    "0>2 or 2>1"
   ]
  },
  {
   "cell_type": "markdown",
   "id": "2bc09a28",
   "metadata": {},
   "source": [
    "## Variables:\n",
    "\n",
    "- Containers for storing informations\n",
    "\n",
    "- variables are created \"=\"\n",
    "\n",
    "- for a given runtime"
   ]
  },
  {
   "cell_type": "code",
   "execution_count": 46,
   "id": "363ef7a0",
   "metadata": {},
   "outputs": [],
   "source": [
    "x=4"
   ]
  },
  {
   "cell_type": "code",
   "execution_count": 47,
   "id": "e5a65bfd",
   "metadata": {},
   "outputs": [
    {
     "data": {
      "text/plain": [
       "4"
      ]
     },
     "execution_count": 47,
     "metadata": {},
     "output_type": "execute_result"
    }
   ],
   "source": [
    "x"
   ]
  },
  {
   "cell_type": "code",
   "execution_count": 48,
   "id": "4be4e3d3",
   "metadata": {},
   "outputs": [],
   "source": [
    "y='Isa'"
   ]
  },
  {
   "cell_type": "code",
   "execution_count": 49,
   "id": "7695cebc",
   "metadata": {},
   "outputs": [
    {
     "data": {
      "text/plain": [
       "'Isa'"
      ]
     },
     "execution_count": 49,
     "metadata": {},
     "output_type": "execute_result"
    }
   ],
   "source": [
    "y"
   ]
  },
  {
   "cell_type": "code",
   "execution_count": 50,
   "id": "f3edaa36",
   "metadata": {},
   "outputs": [
    {
     "name": "stdout",
     "output_type": "stream",
     "text": [
      "type x is :  <class 'int'>\n",
      "type y is :  <class 'str'>\n"
     ]
    }
   ],
   "source": [
    "print (\"type x is : \" ,type(x))\n",
    "print(\"type y is : \", type(y))"
   ]
  },
  {
   "cell_type": "markdown",
   "id": "7c77da48",
   "metadata": {},
   "source": [
    "### Variable names cannot start with a number or special character, ie 2,3,4,@#\n",
    "\n",
    "\n",
    "### Variable name doesnot have any space in between two characters, but underscore can be used"
   ]
  },
  {
   "cell_type": "code",
   "execution_count": 51,
   "id": "2d70c646",
   "metadata": {},
   "outputs": [
    {
     "ename": "SyntaxError",
     "evalue": "invalid decimal literal (1399384543.py, line 1)",
     "output_type": "error",
     "traceback": [
      "\u001b[1;36m  Cell \u001b[1;32mIn[51], line 1\u001b[1;36m\u001b[0m\n\u001b[1;33m    2_x\u001b[0m\n\u001b[1;37m     ^\u001b[0m\n\u001b[1;31mSyntaxError\u001b[0m\u001b[1;31m:\u001b[0m invalid decimal literal\n"
     ]
    }
   ],
   "source": [
    "2_x"
   ]
  },
  {
   "cell_type": "code",
   "execution_count": 52,
   "id": "ca8f2ea6",
   "metadata": {},
   "outputs": [
    {
     "ename": "SyntaxError",
     "evalue": "invalid syntax (2781171790.py, line 1)",
     "output_type": "error",
     "traceback": [
      "\u001b[1;36m  Cell \u001b[1;32mIn[52], line 1\u001b[1;36m\u001b[0m\n\u001b[1;33m    $y\u001b[0m\n\u001b[1;37m    ^\u001b[0m\n\u001b[1;31mSyntaxError\u001b[0m\u001b[1;31m:\u001b[0m invalid syntax\n"
     ]
    }
   ],
   "source": [
    "$y"
   ]
  },
  {
   "cell_type": "code",
   "execution_count": 53,
   "id": "b7587cd6",
   "metadata": {},
   "outputs": [],
   "source": [
    "y1=6"
   ]
  },
  {
   "cell_type": "code",
   "execution_count": 54,
   "id": "76d068f7",
   "metadata": {},
   "outputs": [
    {
     "data": {
      "text/plain": [
       "6"
      ]
     },
     "execution_count": 54,
     "metadata": {},
     "output_type": "execute_result"
    }
   ],
   "source": [
    "y1"
   ]
  },
  {
   "cell_type": "code",
   "execution_count": 55,
   "id": "f05cf6f6",
   "metadata": {},
   "outputs": [],
   "source": [
    "x_1=3\n",
    "x_2=4\n",
    "x3=x_1+x_2"
   ]
  },
  {
   "cell_type": "code",
   "execution_count": 56,
   "id": "b8b9d53c",
   "metadata": {},
   "outputs": [
    {
     "data": {
      "text/plain": [
       "7"
      ]
     },
     "execution_count": 56,
     "metadata": {},
     "output_type": "execute_result"
    }
   ],
   "source": [
    "x3"
   ]
  },
  {
   "cell_type": "markdown",
   "id": "aaa79854",
   "metadata": {},
   "source": [
    "## input = taking input from user\n",
    "\n",
    "- takes input in for of strings"
   ]
  },
  {
   "cell_type": "code",
   "execution_count": 57,
   "id": "a1090c85",
   "metadata": {},
   "outputs": [
    {
     "name": "stdout",
     "output_type": "stream",
     "text": [
      "Enter your name: Isa\n"
     ]
    }
   ],
   "source": [
    "a=input(\"Enter your name: \")"
   ]
  },
  {
   "cell_type": "code",
   "execution_count": 58,
   "id": "9debd913",
   "metadata": {},
   "outputs": [
    {
     "name": "stdout",
     "output_type": "stream",
     "text": [
      "Enter the first number: 6\n",
      "Enter the second number: 8\n"
     ]
    }
   ],
   "source": [
    "x1=input(\"Enter the first number: \")\n",
    "x2=input(\"Enter the second number: \")"
   ]
  },
  {
   "cell_type": "code",
   "execution_count": 59,
   "id": "4711cf6a",
   "metadata": {},
   "outputs": [
    {
     "name": "stdout",
     "output_type": "stream",
     "text": [
      "68\n"
     ]
    }
   ],
   "source": [
    "print(x1+x2)"
   ]
  },
  {
   "cell_type": "code",
   "execution_count": 60,
   "id": "0c642f32",
   "metadata": {},
   "outputs": [
    {
     "name": "stdout",
     "output_type": "stream",
     "text": [
      "Enter the first number: 8\n",
      "Enter the second number: 9\n"
     ]
    }
   ],
   "source": [
    "x=int(input(\"Enter the first number: \"))\n",
    "y=int(input(\"Enter the second number: \"))"
   ]
  },
  {
   "cell_type": "code",
   "execution_count": 61,
   "id": "fddae801",
   "metadata": {},
   "outputs": [
    {
     "name": "stdout",
     "output_type": "stream",
     "text": [
      "The sum is =  17\n"
     ]
    }
   ],
   "source": [
    "print(\"The sum is = \", x+y)"
   ]
  },
  {
   "cell_type": "markdown",
   "id": "12f5b231",
   "metadata": {},
   "source": [
    "## type conversions"
   ]
  },
  {
   "cell_type": "code",
   "execution_count": 62,
   "id": "8e2e40d4",
   "metadata": {},
   "outputs": [],
   "source": [
    "m=10"
   ]
  },
  {
   "cell_type": "code",
   "execution_count": 63,
   "id": "2f41827e",
   "metadata": {},
   "outputs": [
    {
     "data": {
      "text/plain": [
       "int"
      ]
     },
     "execution_count": 63,
     "metadata": {},
     "output_type": "execute_result"
    }
   ],
   "source": [
    "type(m)"
   ]
  },
  {
   "cell_type": "code",
   "execution_count": 64,
   "id": "32b4dba8",
   "metadata": {},
   "outputs": [],
   "source": [
    "n=float(m)"
   ]
  },
  {
   "cell_type": "code",
   "execution_count": 65,
   "id": "03312551",
   "metadata": {},
   "outputs": [
    {
     "data": {
      "text/plain": [
       "float"
      ]
     },
     "execution_count": 65,
     "metadata": {},
     "output_type": "execute_result"
    }
   ],
   "source": [
    "type(n)"
   ]
  },
  {
   "cell_type": "code",
   "execution_count": 66,
   "id": "c57e3fa4",
   "metadata": {},
   "outputs": [],
   "source": [
    "z=6"
   ]
  },
  {
   "cell_type": "code",
   "execution_count": 67,
   "id": "b03c1b30",
   "metadata": {},
   "outputs": [
    {
     "data": {
      "text/plain": [
       "int"
      ]
     },
     "execution_count": 67,
     "metadata": {},
     "output_type": "execute_result"
    }
   ],
   "source": [
    "type(z)"
   ]
  },
  {
   "cell_type": "code",
   "execution_count": 68,
   "id": "dda3c95b",
   "metadata": {},
   "outputs": [],
   "source": [
    "t=str(z)"
   ]
  },
  {
   "cell_type": "code",
   "execution_count": 69,
   "id": "59c02249",
   "metadata": {},
   "outputs": [
    {
     "data": {
      "text/plain": [
       "'6'"
      ]
     },
     "execution_count": 69,
     "metadata": {},
     "output_type": "execute_result"
    }
   ],
   "source": [
    "t"
   ]
  },
  {
   "cell_type": "code",
   "execution_count": 70,
   "id": "ee922004",
   "metadata": {},
   "outputs": [
    {
     "data": {
      "text/plain": [
       "str"
      ]
     },
     "execution_count": 70,
     "metadata": {},
     "output_type": "execute_result"
    }
   ],
   "source": [
    "type(t)"
   ]
  },
  {
   "cell_type": "code",
   "execution_count": null,
   "id": "0e7ecea7",
   "metadata": {},
   "outputs": [],
   "source": [
    "h = float(input(\"Enter the probability: \"))"
   ]
  },
  {
   "cell_type": "code",
   "execution_count": null,
   "id": "79c1c87c",
   "metadata": {},
   "outputs": [],
   "source": [
    "h"
   ]
  },
  {
   "cell_type": "code",
   "execution_count": null,
   "id": "f3ef3285",
   "metadata": {},
   "outputs": [],
   "source": [
    "type(h)"
   ]
  },
  {
   "cell_type": "markdown",
   "id": "67042568",
   "metadata": {},
   "source": [
    "## String Formatting"
   ]
  },
  {
   "cell_type": "code",
   "execution_count": null,
   "id": "fd821996",
   "metadata": {},
   "outputs": [],
   "source": [
    "permeability = float(input(\"Enter the formation's permeability: \"))\n",
    "porosity = float(input(\"Enter the formation's porosity: \"))\n",
    "print(f\"Formation Porosity is {porosity*100}, and permeability is {permeability} md, and product of both is {porosity*permeability}\")"
   ]
  },
  {
   "cell_type": "code",
   "execution_count": null,
   "id": "d7de7397",
   "metadata": {},
   "outputs": [],
   "source": [
    "print(\"Formation Porosity is {}, and permeability is {} md\".format(porosity,permeability))"
   ]
  },
  {
   "cell_type": "code",
   "execution_count": null,
   "id": "c01e6515",
   "metadata": {},
   "outputs": [],
   "source": [
    "print(\"Formation porosity is \", porosity, \"and permeability is \", permeability)"
   ]
  },
  {
   "cell_type": "code",
   "execution_count": null,
   "id": "661dc35a",
   "metadata": {},
   "outputs": [],
   "source": []
  },
  {
   "cell_type": "code",
   "execution_count": null,
   "id": "567c0ffb",
   "metadata": {},
   "outputs": [],
   "source": []
  },
  {
   "cell_type": "code",
   "execution_count": null,
   "id": "771b2e70",
   "metadata": {},
   "outputs": [],
   "source": []
  }
 ],
 "metadata": {
  "kernelspec": {
   "display_name": "Python 3 (ipykernel)",
   "language": "python",
   "name": "python3"
  },
  "language_info": {
   "codemirror_mode": {
    "name": "ipython",
    "version": 3
   },
   "file_extension": ".py",
   "mimetype": "text/x-python",
   "name": "python",
   "nbconvert_exporter": "python",
   "pygments_lexer": "ipython3",
   "version": "3.11.4"
  }
 },
 "nbformat": 4,
 "nbformat_minor": 5
}
